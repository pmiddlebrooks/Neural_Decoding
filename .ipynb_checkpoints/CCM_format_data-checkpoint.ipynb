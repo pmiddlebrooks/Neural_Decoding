{
 "cells": [
  {
   "cell_type": "code",
   "execution_count": 65,
   "metadata": {
    "collapsed": true
   },
   "outputs": [],
   "source": [
    "import scipy.io as sio\n",
    "# import h5py\n",
    "import pandas as pd\n",
    "import numpy as np\n",
    "import os\n",
    "# import hdf5storage\n",
    "\n",
    "import matplotlib.pyplot as plt\n",
    "import seaborn as sns\n",
    "%matplotlib inline\n",
    "# import hdf5\n",
    "from itertools import chain"
   ]
  },
  {
   "cell_type": "code",
   "execution_count": 66,
   "metadata": {
    "collapsed": true
   },
   "outputs": [],
   "source": [
    "matRoot = '/Users/paulmiddlebrooks/schalllab';\n",
    "dataRoot = '/Users/paulmiddlebrooks/Dropbox/local_data/';\n",
    "dirRoot = '/Users/paulmiddlebrooks/courses_tutorials/matlab_files/';\n",
    "environ = 'local';\n"
   ]
  },
  {
   "cell_type": "markdown",
   "metadata": {},
   "source": [
    "## Determine the file to open"
   ]
  },
  {
   "cell_type": "code",
   "execution_count": 67,
   "metadata": {
    "collapsed": false
   },
   "outputs": [
    {
     "name": "stdout",
     "output_type": "stream",
     "text": [
      "/Users/paulmiddlebrooks/Dropbox/local_data/joule/jp083n02.mat\n"
     ]
    }
   ],
   "source": [
    "# subject = 'broca';\n",
    "subject = 'joule';\n",
    "\n",
    "# session = 'bp247n02.mat';\n",
    "session = 'bp093n02.mat';\n",
    "# session = 'jp083n02_lfp.mat';\n",
    "session = 'jp083n02.mat';\n",
    "\n",
    "fileName = os.path.join(dataRoot, subject, session);\n",
    "# fileName = dataRoot + subject + '/' + session;\n",
    "print(fileName)"
   ]
  },
  {
   "cell_type": "markdown",
   "metadata": {},
   "source": [
    "##  Open the file"
   ]
  },
  {
   "cell_type": "code",
   "execution_count": 68,
   "metadata": {
    "collapsed": true
   },
   "outputs": [],
   "source": [
    "#///////////////////////////////////\n",
    "#     Open the file to h5py\n",
    "#///////////////////////////////////\n",
    "\n",
    "# Using scipy\n",
    "# td = sio.loadmat(fileName, squeeze_me=True, struct_as_record=False)\n",
    "td = sio.loadmat(fileName, struct_as_record=False)\n",
    "\n"
   ]
  },
  {
   "cell_type": "code",
   "execution_count": 69,
   "metadata": {
    "collapsed": false,
    "scrolled": true
   },
   "outputs": [
    {
     "name": "stdout",
     "output_type": "stream",
     "text": [
      "[u'go' u'go' u'go' ..., u'go' u'go' u'stop']\n"
     ]
    }
   ],
   "source": [
    "varWant = 'trialType'\n",
    "# print td[varWant]\n",
    "trialOutcome = np.ravel(td[varWant])\n",
    "trialOutcome = np.concatenate(trialOutcome)\n",
    "# np.unique(trialOutcome)\n",
    "print trialOutcome\n"
   ]
  },
  {
   "cell_type": "code",
   "execution_count": 70,
   "metadata": {
    "collapsed": false
   },
   "outputs": [
    {
     "data": {
      "text/plain": [
       "['SessionData',\n",
       " '__function_workspace__',\n",
       " '__globals__',\n",
       " '__header__',\n",
       " '__version__',\n",
       " 'abortTime',\n",
       " 'checkerAmp',\n",
       " 'checkerAngle',\n",
       " 'checkerArray',\n",
       " 'checkerDuration',\n",
       " 'checkerOn',\n",
       " 'checkerSize',\n",
       " 'checkerWindow',\n",
       " 'distAmp',\n",
       " 'distAngle',\n",
       " 'distDuration',\n",
       " 'distOn',\n",
       " 'distSize',\n",
       " 'distWindow',\n",
       " 'eyeX',\n",
       " 'eyeY',\n",
       " 'fixAmp',\n",
       " 'fixAngle',\n",
       " 'fixOff',\n",
       " 'fixOn',\n",
       " 'fixSize',\n",
       " 'fixWindow',\n",
       " 'fixWindowEntered',\n",
       " 'postTargFixDuration',\n",
       " 'preTargFixDuration',\n",
       " 'responseCueOn',\n",
       " 'responseOnset',\n",
       " 'rewardDuration',\n",
       " 'rewardOn',\n",
       " 'rt',\n",
       " 'saccAmp',\n",
       " 'saccAngle',\n",
       " 'saccBegin',\n",
       " 'saccDuration',\n",
       " 'saccToTargIndex',\n",
       " 'spikeUnit01a',\n",
       " 'spikeUnit01b',\n",
       " 'spikeUnit02a',\n",
       " 'spikeUnit03a',\n",
       " 'spikeUnit03b',\n",
       " 'spikeUnit04a',\n",
       " 'spikeUnit04b',\n",
       " 'spikeUnit05a',\n",
       " 'spikeUnit05b',\n",
       " 'spikeUnit06a',\n",
       " 'spikeUnit06b',\n",
       " 'spikeUnit07a',\n",
       " 'spikeUnit07b',\n",
       " 'spikeUnit08a',\n",
       " 'spikeUnit08b',\n",
       " 'spikeUnit09a',\n",
       " 'spikeUnit09b',\n",
       " 'spikeUnit10a',\n",
       " 'spikeUnit10b',\n",
       " 'spikeUnit11a',\n",
       " 'spikeUnit12a',\n",
       " 'spikeUnit12b',\n",
       " 'spikeUnit13a',\n",
       " 'spikeUnit13b',\n",
       " 'spikeUnit14a',\n",
       " 'spikeUnit14b',\n",
       " 'spikeUnit15a',\n",
       " 'spikeUnit15b',\n",
       " 'spikeUnit16a',\n",
       " 'spikeUnit16b',\n",
       " 'spikeUnit17a',\n",
       " 'spikeUnit17b',\n",
       " 'spikeUnit18a',\n",
       " 'spikeUnit18b',\n",
       " 'spikeUnit19a',\n",
       " 'spikeUnit20a',\n",
       " 'spikeUnit20b',\n",
       " 'spikeUnit21a',\n",
       " 'spikeUnit21b',\n",
       " 'spikeUnit22a',\n",
       " 'spikeUnit22b',\n",
       " 'spikeUnit23a',\n",
       " 'spikeUnit23b',\n",
       " 'spikeUnit24a',\n",
       " 'spikeUnit24b',\n",
       " 'spikeUnit25a',\n",
       " 'spikeUnit26a',\n",
       " 'spikeUnit26b',\n",
       " 'spikeUnit27a',\n",
       " 'spikeUnit27b',\n",
       " 'spikeUnit28a',\n",
       " 'spikeUnit29a',\n",
       " 'spikeUnit29b',\n",
       " 'spikeUnit30a',\n",
       " 'spikeUnit30b',\n",
       " 'spikeUnit31a',\n",
       " 'spikeUnit31b',\n",
       " 'spikeUnit32a',\n",
       " 'spikeUnit32b',\n",
       " 'ssd',\n",
       " 'stopDuration',\n",
       " 'stopSignalOn',\n",
       " 'stopTrialProp',\n",
       " 'targ1CheckerProp',\n",
       " 'targAmp',\n",
       " 'targAngle',\n",
       " 'targOn',\n",
       " 'targSize',\n",
       " 'targWindow',\n",
       " 'targWindowEntered',\n",
       " 'timeoutDuration',\n",
       " 'toneDuration',\n",
       " 'toneOn',\n",
       " 'trialDuration',\n",
       " 'trialOnset',\n",
       " 'trialOutcome',\n",
       " 'trialType']"
      ]
     },
     "execution_count": 70,
     "metadata": {},
     "output_type": "execute_result"
    }
   ],
   "source": [
    "sorted(td.keys())"
   ]
  },
  {
   "cell_type": "markdown",
   "metadata": {},
   "source": [
    "## Get boolean of trials to use"
   ]
  },
  {
   "cell_type": "code",
   "execution_count": 92,
   "metadata": {
    "collapsed": false
   },
   "outputs": [],
   "source": [
    "from ccm_trial_selection import trials as ts\n",
    "\n",
    "options = {'trialOutcome':['goCorrectTarget','stopCorrect']}\n",
    "options = {'trialOutcome':['goCorrectTarget']}\n",
    "# options = {'trialOutcome':['stopIncorrectTarget']}\n",
    "\n",
    "trialBool = ts(td, options)\n",
    "# trialList = trials(td, options)   # Old option before I created the separate python file ccm_trial_selection.py\n",
    "\n",
    "trialList = np.squeeze(np.where(trialBool))"
   ]
  },
  {
   "cell_type": "markdown",
   "metadata": {},
   "source": [
    "## Get necessary variables for running the algorithms"
   ]
  },
  {
   "cell_type": "code",
   "execution_count": 93,
   "metadata": {
    "collapsed": true
   },
   "outputs": [],
   "source": [
    "# get trialOnset so all the timed variables can be adjusted from trial-wise time to session-wise time\n",
    "trialOnset = np.squeeze(td['trialOnset'])[trialList]\n",
    "trialDuration = np.squeeze(td['trialDuration'])[trialList]\n",
    "\n",
    "# get trialOutcome as the output to train/test model (for future)\n",
    "trialOutcome = np.ravel(td['trialOutcome'])\n",
    "trialOutcome = np.concatenate(trialOutcome)[trialList]\n",
    "\n",
    "# get eye position (or velocity?) values\n",
    "eyeX = np.squeeze(td['eyeX'])[trialList]\n",
    "eyeY = np.squeeze(td['eyeY'])[trialList]\n"
   ]
  },
  {
   "cell_type": "code",
   "execution_count": 108,
   "metadata": {
    "collapsed": false,
    "scrolled": true
   },
   "outputs": [],
   "source": [
    "# loop through trials and get eye position and recorded time from trialOnset through trial duration\n",
    "eyeXVals = []\n",
    "eyeYVals = []\n",
    "eyeTimes = []\n",
    "for iTrial in range(trialList.shape[0]):\n",
    "    # get session-wise times of the eye data\n",
    "#     print trialOnset[iTrial] #+ trialDuration[iTrial]\n",
    "#     print iTrial, trialOnset[iTrial], trialDuration[iTrial]\n",
    "    eyeTimes.append(range(trialOnset[iTrial], trialOnset[iTrial] + trialDuration[iTrial]))\n",
    "\n",
    "    eyeXVals.append(eyeX[iTrial][0:trialDuration[iTrial]])\n",
    "    eyeYVals.append(eyeY[iTrial][0:trialDuration[iTrial]])\n",
    "        \n",
    "\n",
    "\n",
    "# loop through variable list and get desired variables, adjusting them as you go\n",
    "varList = ['fixWindowEntered','checkerOn']\n",
    "varDict = {};\n",
    "for iVar in varList:\n",
    "    varDict[iVar] = np.squeeze(td[iVar])[trialList] + trialOnset\n",
    "    \n",
    "# print varDict    \n"
   ]
  },
  {
   "cell_type": "code",
   "execution_count": 115,
   "metadata": {
    "collapsed": false
   },
   "outputs": [
    {
     "name": "stdout",
     "output_type": "stream",
     "text": [
      "0\n"
     ]
    },
    {
     "data": {
      "image/png": "[encoded data removed]",
      "text/plain": [
       "<matplotlib.figure.Figure at 0x1166ddb10>"
      ]
     },
     "metadata": {},
     "output_type": "display_data"
    }
   ],
   "source": [
    "iTrial = 0\n",
    "plt.plot(eyeTimes[iTrial])\n",
    "print trialOnset[iTrial]"
   ]
  },
  {
   "cell_type": "code",
   "execution_count": 113,
   "metadata": {
    "collapsed": false
   },
   "outputs": [
    {
     "data": {
      "text/plain": [
       "[<matplotlib.lines.Line2D at 0x116209490>]"
      ]
     },
     "execution_count": 113,
     "metadata": {},
     "output_type": "execute_result"
    },
    {
     "data": {
      "image/png": "[encoded data removed]",
      "text/plain": [
       "<matplotlib.figure.Figure at 0x116565610>"
      ]
     },
     "metadata": {},
     "output_type": "display_data"
    }
   ],
   "source": [
    "# Plot an example trial eye trace:\n",
    "iTrial = 50;\n",
    "plt.plot(eyeXVals[iTrial])\n",
    "plt.plot(eyeYVals[iTrial])"
   ]
  },
  {
   "cell_type": "markdown",
   "metadata": {},
   "source": [
    "# Format Spiking Data"
   ]
  },
  {
   "cell_type": "markdown",
   "metadata": {},
   "source": [
    "### Get spike unit names (variables) in the data file"
   ]
  },
  {
   "cell_type": "code",
   "execution_count": 116,
   "metadata": {
    "collapsed": true
   },
   "outputs": [],
   "source": [
    "var = td['SessionData']\n",
    "# nameArray = np.concatenate(var[0,0].spikeUnitArray[0])\n",
    "nameArray = var[0,0].spikeUnitArray[0]\n"
   ]
  },
  {
   "cell_type": "markdown",
   "metadata": {},
   "source": [
    "### Create a DataFrame of the individual spike units"
   ]
  },
  {
   "cell_type": "code",
   "execution_count": 117,
   "metadata": {
    "collapsed": true
   },
   "outputs": [],
   "source": [
    "df = pd.DataFrame()\n",
    "for i in nameArray:\n",
    "    spike = np.ravel(td[i[0]])\n",
    "#     print(np.ravel(td[i[0]]))\n",
    "    df[i[0]] = spike\n",
    "\n",
    "spikeDf = df.applymap(np.ravel)"
   ]
  },
  {
   "cell_type": "markdown",
   "metadata": {},
   "source": [
    "### Convert the DataFrame to multiUnit\n",
    "[Adapted code here](https://stackoverflow.com/questions/26825729/extract-number-from-string-in-python?answertab=votes#tab-top)"
   ]
  },
  {
   "cell_type": "code",
   "execution_count": 118,
   "metadata": {
    "collapsed": true
   },
   "outputs": [],
   "source": [
    "# Get a list of the unique channels (without the individual isolated units)\n",
    "nameArrayList = np.concatenate(nameArray)\n",
    "units = np.unique(map(lambda x: x[0:11], nameArrayList))\n",
    "\n",
    "# Initialize empty multi-unit DataFrame\n",
    "multiDf = pd.DataFrame();\n",
    "\n",
    "# For each channel, combine all isolated units into a single unit\n",
    "for iUnit in units:\n",
    "    iNum = str(filter(unicode.isdigit, iUnit))  # Which channel number (string) is this?\n",
    "    indices = [i for i, s in enumerate(nameArrayList) if iNum in s]  # Which indices in the spike unit list (nameArray) are this unit?\n",
    "\n",
    "    # concatenate the spikes from each isolated unit into one multi-unit, and add it to the DataFrame\n",
    "    tempDf = spikeDf.iloc[:,indices].apply(tuple, axis = 1)\n",
    "    \n",
    "    # Loop through each row, concatenating the spikes from each unit into a multi-unit\n",
    "    for row in spikeDf.itertuples():\n",
    "        tempDf[row[0]] = np.sort(list(chain.from_iterable(tempDf[row[0]])))\n",
    "\n",
    "    multiDf[iUnit] = tempDf\n"
   ]
  },
  {
   "cell_type": "code",
   "execution_count": 156,
   "metadata": {
    "collapsed": false,
    "scrolled": true
   },
   "outputs": [
    {
     "data": {
      "text/plain": [
       "0       [27, 81, 106, 108, 115, 149, 173, 207, 209, 23...\n",
       "1       [57, 186, 215, 252, 736, 957, 1270, 1282, 1306...\n",
       "2       [19, 27, 263, 265, 308, 726, 836, 1033, 1131, ...\n",
       "3       [193, 927, 1003, 1069, 1157, 1183, 1487, 1638,...\n",
       "4       [271, 283, 416, 663, 697, 869, 875, 1006, 1103...\n",
       "5       [151, 152, 192, 236, 250, 727, 743, 745, 956, ...\n",
       "6       [14, 199, 382, 436, 457, 848, 877, 1641, 1665,...\n",
       "7       [377, 992, 1510, 1547, 1637, 1768, 2176, 2695,...\n",
       "8       [2, 221, 259, 302, 387, 438, 504, 628, 675, 73...\n",
       "9       [142, 181, 311, 326, 375, 437, 689, 1198, 1623...\n",
       "10      [20, 29, 35, 240, 597, 1279, 1407, 1446, 1670,...\n",
       "11      [98, 748, 917, 991, 1542, 1555, 1612, 1643, 18...\n",
       "12      [73, 117, 134, 136, 336, 393, 576, 749, 967, 1...\n",
       "13      [84, 243, 523, 542, 544, 566, 623, 625, 635, 7...\n",
       "14      [11, 37, 116, 411, 686, 787, 801, 808, 997, 11...\n",
       "15      [251, 1306, 1691, 1730, 1775, 1840, 2310, 2441...\n",
       "16      [26, 195, 226, 696, 755, 880, 1060, 1346, 1499...\n",
       "17      [319, 750, 835, 871, 897, 963, 1232, 1301, 130...\n",
       "18      [79, 166, 406, 1112, 1441, 2051, 2137, 2471, 2...\n",
       "19      [561, 801, 1035, 1133, 1357, 1666, 1685, 1823,...\n",
       "20      [291, 509, 750, 786, 1077, 1098, 1153, 1296, 1...\n",
       "21      [464, 1178, 1736, 1756, 1790, 1872, 2224, 2959...\n",
       "22      [41, 109, 135, 169, 189, 303, 565, 844, 1298, ...\n",
       "23      [233, 315, 349, 376, 496, 537, 557, 1037, 1084...\n",
       "24      [171, 239, 268, 660, 695, 804, 1080, 1231, 129...\n",
       "25      [524, 907, 1115, 1200, 1304, 1851, 1956, 2129,...\n",
       "26      [153, 263, 477, 796, 1447, 1632, 1640, 1988, 2...\n",
       "27      [33, 35, 459, 615, 636, 807, 1813, 1821, 1956,...\n",
       "28      [255, 686, 1572, 1598, 1627, 1647, 1777, 2058,...\n",
       "29      [335, 508, 551, 711, 1647, 2028, 2117, 2519, 2...\n",
       "                              ...                        \n",
       "1828    [79, 143, 179, 334, 348, 496, 555, 587, 603, 6...\n",
       "1829    [69, 124, 158, 219, 243, 270, 293, 308, 338, 3...\n",
       "1830    [80, 154, 161, 188, 202, 217, 225, 231, 241, 2...\n",
       "1831    [177, 274, 315, 327, 648, 709, 759, 1325, 1760...\n",
       "1832    [60, 68, 109, 151, 213, 335, 365, 399, 514, 56...\n",
       "1833    [1045, 1052, 1097, 1118, 1121, 1123, 1143, 116...\n",
       "1834    [134, 135, 142, 151, 167, 169, 200, 206, 264, ...\n",
       "1835    [27, 813, 1508, 1744, 1973, 2004, 2007, 2026, ...\n",
       "1836    [97, 1012, 1175, 1796, 1812, 1829, 1835, 1837,...\n",
       "1837    [211, 267, 384, 405, 426, 467, 568, 957, 974, ...\n",
       "1838    [226, 386, 478, 1469, 1499, 1533, 1545, 1592, ...\n",
       "1839    [381, 385, 439, 488, 846, 991, 1006, 1094, 120...\n",
       "1840    [173, 253, 337, 390, 391, 1013, 1044, 1049, 11...\n",
       "1841    [53, 115, 173, 179, 307, 328, 593, 606, 654, 6...\n",
       "1842    [12, 124, 148, 341, 359, 638, 674, 809, 857, 9...\n",
       "1843    [69, 116, 147, 232, 233, 246, 303, 347, 381, 4...\n",
       "1844    [249, 269, 361, 400, 423, 435, 476, 547, 581, ...\n",
       "1845    [17, 67, 338, 507, 508, 572, 576, 594, 1020, 1...\n",
       "1846    [196, 1454, 1569, 1571, 1601, 2022, 2149, 2276...\n",
       "1847    [87, 266, 602, 677, 763, 915, 927, 1029, 1642,...\n",
       "1848    [192, 251, 886, 975, 1220, 1247, 1253, 1282, 1...\n",
       "1849    [68, 231, 250, 294, 343, 388, 427, 530, 543, 6...\n",
       "1850    [464, 486, 1483, 1741, 1835, 2390, 2397, 2553,...\n",
       "1851    [21, 105, 605, 995, 1038, 1050, 1057, 1065, 10...\n",
       "1852    [117, 208, 287, 400, 533, 1008, 1062, 1135, 11...\n",
       "1853    [82, 423, 518, 1055, 1576, 1579, 1616, 1617, 1...\n",
       "1854    [18, 34, 93, 106, 165, 192, 217, 242, 244, 253...\n",
       "1855    [46, 85, 88, 89, 106, 110, 119, 124, 128, 136,...\n",
       "1856    [13, 42, 68, 89, 114, 128, 137, 182, 188, 198,...\n",
       "1857                                                   []\n",
       "Name: spikeUnit01, Length: 1858, dtype: object"
      ]
     },
     "execution_count": 156,
     "metadata": {},
     "output_type": "execute_result"
    }
   ],
   "source": [
    "# multiDf = multiDf.iloc[[trialList]]\n",
    "# trialList.size\n",
    "# print trialList.tolist()\n",
    "multiDf.iloc[:,0]"
   ]
  },
  {
   "cell_type": "code",
   "execution_count": 119,
   "metadata": {
    "collapsed": false
   },
   "outputs": [
    {
     "ename": "ValueError",
     "evalue": "Length of values does not match length of index",
     "output_type": "error",
     "traceback": [
      "\u001b[0;31m---------------------------------------------------------------------------\u001b[0m",
      "\u001b[0;31mValueError\u001b[0m                                Traceback (most recent call last)",
      "\u001b[0;32m<ipython-input-119-8cd422100407>\u001b[0m in \u001b[0;36m<module>\u001b[0;34m()\u001b[0m\n\u001b[1;32m      2\u001b[0m \u001b[0;34m\u001b[0m\u001b[0m\n\u001b[1;32m      3\u001b[0m \u001b[0;31m# np.squeeze(td['trialOnset'])\u001b[0m\u001b[0;34m\u001b[0m\u001b[0;34m\u001b[0m\u001b[0m\n\u001b[0;32m----> 4\u001b[0;31m \u001b[0mmultiDf\u001b[0m\u001b[0;34m[\u001b[0m\u001b[0;34m'trialOnset'\u001b[0m\u001b[0;34m]\u001b[0m \u001b[0;34m=\u001b[0m \u001b[0mtrialOnset\u001b[0m\u001b[0;34m\u001b[0m\u001b[0m\n\u001b[0m",
      "\u001b[0;32m//anaconda/lib/python2.7/site-packages/pandas/core/frame.pyc\u001b[0m in \u001b[0;36m__setitem__\u001b[0;34m(self, key, value)\u001b[0m\n\u001b[1;32m   2517\u001b[0m         \u001b[0;32melse\u001b[0m\u001b[0;34m:\u001b[0m\u001b[0;34m\u001b[0m\u001b[0m\n\u001b[1;32m   2518\u001b[0m             \u001b[0;31m# set column\u001b[0m\u001b[0;34m\u001b[0m\u001b[0;34m\u001b[0m\u001b[0m\n\u001b[0;32m-> 2519\u001b[0;31m             \u001b[0mself\u001b[0m\u001b[0;34m.\u001b[0m\u001b[0m_set_item\u001b[0m\u001b[0;34m(\u001b[0m\u001b[0mkey\u001b[0m\u001b[0;34m,\u001b[0m \u001b[0mvalue\u001b[0m\u001b[0;34m)\u001b[0m\u001b[0;34m\u001b[0m\u001b[0m\n\u001b[0m\u001b[1;32m   2520\u001b[0m \u001b[0;34m\u001b[0m\u001b[0m\n\u001b[1;32m   2521\u001b[0m     \u001b[0;32mdef\u001b[0m \u001b[0m_setitem_slice\u001b[0m\u001b[0;34m(\u001b[0m\u001b[0mself\u001b[0m\u001b[0;34m,\u001b[0m \u001b[0mkey\u001b[0m\u001b[0;34m,\u001b[0m \u001b[0mvalue\u001b[0m\u001b[0;34m)\u001b[0m\u001b[0;34m:\u001b[0m\u001b[0;34m\u001b[0m\u001b[0m\n",
      "\u001b[0;32m//anaconda/lib/python2.7/site-packages/pandas/core/frame.pyc\u001b[0m in \u001b[0;36m_set_item\u001b[0;34m(self, key, value)\u001b[0m\n\u001b[1;32m   2583\u001b[0m \u001b[0;34m\u001b[0m\u001b[0m\n\u001b[1;32m   2584\u001b[0m         \u001b[0mself\u001b[0m\u001b[0;34m.\u001b[0m\u001b[0m_ensure_valid_index\u001b[0m\u001b[0;34m(\u001b[0m\u001b[0mvalue\u001b[0m\u001b[0;34m)\u001b[0m\u001b[0;34m\u001b[0m\u001b[0m\n\u001b[0;32m-> 2585\u001b[0;31m         \u001b[0mvalue\u001b[0m \u001b[0;34m=\u001b[0m \u001b[0mself\u001b[0m\u001b[0;34m.\u001b[0m\u001b[0m_sanitize_column\u001b[0m\u001b[0;34m(\u001b[0m\u001b[0mkey\u001b[0m\u001b[0;34m,\u001b[0m \u001b[0mvalue\u001b[0m\u001b[0;34m)\u001b[0m\u001b[0;34m\u001b[0m\u001b[0m\n\u001b[0m\u001b[1;32m   2586\u001b[0m         \u001b[0mNDFrame\u001b[0m\u001b[0;34m.\u001b[0m\u001b[0m_set_item\u001b[0m\u001b[0;34m(\u001b[0m\u001b[0mself\u001b[0m\u001b[0;34m,\u001b[0m \u001b[0mkey\u001b[0m\u001b[0;34m,\u001b[0m \u001b[0mvalue\u001b[0m\u001b[0;34m)\u001b[0m\u001b[0;34m\u001b[0m\u001b[0m\n\u001b[1;32m   2587\u001b[0m \u001b[0;34m\u001b[0m\u001b[0m\n",
      "\u001b[0;32m//anaconda/lib/python2.7/site-packages/pandas/core/frame.pyc\u001b[0m in \u001b[0;36m_sanitize_column\u001b[0;34m(self, key, value, broadcast)\u001b[0m\n\u001b[1;32m   2758\u001b[0m \u001b[0;34m\u001b[0m\u001b[0m\n\u001b[1;32m   2759\u001b[0m             \u001b[0;31m# turn me into an ndarray\u001b[0m\u001b[0;34m\u001b[0m\u001b[0;34m\u001b[0m\u001b[0m\n\u001b[0;32m-> 2760\u001b[0;31m             \u001b[0mvalue\u001b[0m \u001b[0;34m=\u001b[0m \u001b[0m_sanitize_index\u001b[0m\u001b[0;34m(\u001b[0m\u001b[0mvalue\u001b[0m\u001b[0;34m,\u001b[0m \u001b[0mself\u001b[0m\u001b[0;34m.\u001b[0m\u001b[0mindex\u001b[0m\u001b[0;34m,\u001b[0m \u001b[0mcopy\u001b[0m\u001b[0;34m=\u001b[0m\u001b[0mFalse\u001b[0m\u001b[0;34m)\u001b[0m\u001b[0;34m\u001b[0m\u001b[0m\n\u001b[0m\u001b[1;32m   2761\u001b[0m             \u001b[0;32mif\u001b[0m \u001b[0;32mnot\u001b[0m \u001b[0misinstance\u001b[0m\u001b[0;34m(\u001b[0m\u001b[0mvalue\u001b[0m\u001b[0;34m,\u001b[0m \u001b[0;34m(\u001b[0m\u001b[0mnp\u001b[0m\u001b[0;34m.\u001b[0m\u001b[0mndarray\u001b[0m\u001b[0;34m,\u001b[0m \u001b[0mIndex\u001b[0m\u001b[0;34m)\u001b[0m\u001b[0;34m)\u001b[0m\u001b[0;34m:\u001b[0m\u001b[0;34m\u001b[0m\u001b[0m\n\u001b[1;32m   2762\u001b[0m                 \u001b[0;32mif\u001b[0m \u001b[0misinstance\u001b[0m\u001b[0;34m(\u001b[0m\u001b[0mvalue\u001b[0m\u001b[0;34m,\u001b[0m \u001b[0mlist\u001b[0m\u001b[0;34m)\u001b[0m \u001b[0;32mand\u001b[0m \u001b[0mlen\u001b[0m\u001b[0;34m(\u001b[0m\u001b[0mvalue\u001b[0m\u001b[0;34m)\u001b[0m \u001b[0;34m>\u001b[0m \u001b[0;36m0\u001b[0m\u001b[0;34m:\u001b[0m\u001b[0;34m\u001b[0m\u001b[0m\n",
      "\u001b[0;32m//anaconda/lib/python2.7/site-packages/pandas/core/series.pyc\u001b[0m in \u001b[0;36m_sanitize_index\u001b[0;34m(data, index, copy)\u001b[0m\n\u001b[1;32m   3119\u001b[0m \u001b[0;34m\u001b[0m\u001b[0m\n\u001b[1;32m   3120\u001b[0m     \u001b[0;32mif\u001b[0m \u001b[0mlen\u001b[0m\u001b[0;34m(\u001b[0m\u001b[0mdata\u001b[0m\u001b[0;34m)\u001b[0m \u001b[0;34m!=\u001b[0m \u001b[0mlen\u001b[0m\u001b[0;34m(\u001b[0m\u001b[0mindex\u001b[0m\u001b[0;34m)\u001b[0m\u001b[0;34m:\u001b[0m\u001b[0;34m\u001b[0m\u001b[0m\n\u001b[0;32m-> 3121\u001b[0;31m         \u001b[0;32mraise\u001b[0m \u001b[0mValueError\u001b[0m\u001b[0;34m(\u001b[0m\u001b[0;34m'Length of values does not match length of '\u001b[0m \u001b[0;34m'index'\u001b[0m\u001b[0;34m)\u001b[0m\u001b[0;34m\u001b[0m\u001b[0m\n\u001b[0m\u001b[1;32m   3122\u001b[0m \u001b[0;34m\u001b[0m\u001b[0m\n\u001b[1;32m   3123\u001b[0m     \u001b[0;32mif\u001b[0m \u001b[0misinstance\u001b[0m\u001b[0;34m(\u001b[0m\u001b[0mdata\u001b[0m\u001b[0;34m,\u001b[0m \u001b[0mPeriodIndex\u001b[0m\u001b[0;34m)\u001b[0m\u001b[0;34m:\u001b[0m\u001b[0;34m\u001b[0m\u001b[0m\n",
      "\u001b[0;31mValueError\u001b[0m: Length of values does not match length of index"
     ]
    }
   ],
   "source": [
    "#  td.keys()  # what are the variable names?\n",
    "\n",
    "# np.squeeze(td['trialOnset'])\n",
    "multiDf['trialOnset'] = trialOnset"
   ]
  },
  {
   "cell_type": "code",
   "execution_count": 13,
   "metadata": {
    "collapsed": false
   },
   "outputs": [],
   "source": [
    "for iUnit in units:\n",
    "    multiDf[:,iUnit] = multiDf[:,iUnit] + multiDf['trialOnset']\n"
   ]
  },
  {
   "cell_type": "markdown",
   "metadata": {},
   "source": [
    "### Create an array (units) of arrays (spike times)"
   ]
  },
  {
   "cell_type": "code",
   "execution_count": 92,
   "metadata": {
    "collapsed": false
   },
   "outputs": [],
   "source": [
    "# np.concatenate(multiDf[iUnit].values)\n",
    "\n",
    "spike_times = [];\n",
    "for iUnit in units:\n",
    "    spike_times.append(np.concatenate(multiDf[:,iUnit].values))\n",
    "#     print np.concatenate(multiDf[iUnit].values)\n",
    "\n",
    "# convert to seconds\n",
    "spike_times = np.asarray(spike_times)"
   ]
  },
  {
   "cell_type": "code",
   "execution_count": 85,
   "metadata": {
    "collapsed": false
   },
   "outputs": [
    {
     "name": "stdout",
     "output_type": "stream",
     "text": [
      "[  6.00000000e+00   1.00000000e+01   1.10000000e+01 ...,   1.35198750e+07\n",
      "   1.35200140e+07   1.35200440e+07]\n"
     ]
    },
    {
     "data": {
      "text/plain": [
       "dtype('O')"
      ]
     },
     "execution_count": 85,
     "metadata": {},
     "output_type": "execute_result"
    }
   ],
   "source": [
    "spike_times.shape\n",
    "print spike_times[-3]\n",
    "spike_times.dtype\n"
   ]
  },
  {
   "cell_type": "markdown",
   "metadata": {},
   "source": [
    "# Format Trial Outcome Data"
   ]
  },
  {
   "cell_type": "markdown",
   "metadata": {},
   "source": [
    "## Put data in binned format"
   ]
  },
  {
   "cell_type": "code",
   "execution_count": null,
   "metadata": {
    "collapsed": true
   },
   "outputs": [],
   "source": [
    "###Preprocessing to put spikes and output in bins###\n",
    "\n",
    "#Bin neural data using \"bin_spikes\" function\n",
    "neural_data=bin_spikes(spike_times,dt,t_start,t_end)\n",
    "\n",
    "#Bin output (velocity) data using \"bin_output\" function\n",
    "vels_binned=bin_output(vels,vel_times,dt,t_start,t_end,downsample_factor)"
   ]
  }
 ],
 "metadata": {
  "kernelspec": {
   "display_name": "Python 2",
   "language": "python",
   "name": "python2"
  },
  "language_info": {
   "codemirror_mode": {
    "name": "ipython",
    "version": 2
   },
   "file_extension": ".py",
   "mimetype": "text/x-python",
   "name": "python",
   "nbconvert_exporter": "python",
   "pygments_lexer": "ipython2",
   "version": "2.7.13"
  }
 },
 "nbformat": 4,
 "nbformat_minor": 2
}
